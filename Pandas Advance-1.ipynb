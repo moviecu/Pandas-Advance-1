{
 "cells": [
  {
   "cell_type": "markdown",
   "metadata": {},
   "source": [
    "## Assignment: Pandas Advance-1\n"
   ]
  },
  {
   "cell_type": "markdown",
   "metadata": {},
   "source": [
    "Q1. List any five functions of the pandas library with execution."
   ]
  },
  {
   "cell_type": "code",
   "execution_count": 1,
   "metadata": {},
   "outputs": [
    {
     "name": "stdout",
     "output_type": "stream",
     "text": [
      "\n",
      "Viewing the first few rows of the DataFrame\n",
      "   A  B\n",
      "0  1  5\n",
      "1  2  6\n",
      "2  3  7\n",
      "\n",
      "Viewing the last few rows of the dataFrame\n",
      "   A  B\n",
      "0  1  5\n",
      "1  2  6\n",
      "2  3  7\n",
      "\n",
      "Geeting a summary of the DataFrame\n",
      "         A    B\n",
      "count  3.0  3.0\n",
      "mean   2.0  6.0\n",
      "std    1.0  1.0\n",
      "min    1.0  5.0\n",
      "25%    1.5  5.5\n",
      "50%    2.0  6.0\n",
      "75%    2.5  6.5\n",
      "max    3.0  7.0\n",
      "\n",
      "Grouping data and geeting a summary\n",
      "   B\n",
      "A   \n",
      "1  5\n",
      "2  6\n",
      "3  7\n"
     ]
    }
   ],
   "source": [
    "import pandas as pd\n",
    "\n",
    "# 1. Creating a DataFrame\n",
    "data= {\"A\":[1,2,3], \"B\":[5,6,7]}\n",
    "df= pd.DataFrame(data)\n",
    "\n",
    "# 2. Viewing the first few rows of the DataFrame\n",
    "print('\\nViewing the first few rows of the DataFrame')\n",
    "print(df.head())\n",
    "\n",
    "# 3. Viewing the last few rows of the dataFrame\n",
    "print(\"\\nViewing the last few rows of the dataFrame\")\n",
    "print(df.tail())\n",
    "\n",
    "# 4. Geeting a summary of the DataFrame\n",
    "print('\\nGeeting a summary of the DataFrame')\n",
    "print(df.describe())\n",
    "\n",
    "# 5. Grouping data and geeting a summary\n",
    "print('\\nGrouping data and geeting a summary')\n",
    "grouped= df.groupby('A').sum()\n",
    "print(grouped)"
   ]
  },
  {
   "cell_type": "markdown",
   "metadata": {},
   "source": [
    "Q2. Given a Pandas DataFrame df with columns 'A', 'B', and 'C', write a Python function to re-index the DataFrame with a new index that starts from 1 and increments by 2 for each row."
   ]
  },
  {
   "cell_type": "code",
   "execution_count": 2,
   "metadata": {},
   "outputs": [
    {
     "name": "stdout",
     "output_type": "stream",
     "text": [
      "\n",
      " Original DataFrame\n",
      "   A  B  C\n",
      "0  1  4  7\n",
      "1  2  5  8\n",
      "2  3  6  9\n",
      "\n",
      "After reindex_DataFrame\n",
      "   A  B  C\n",
      "1  1  4  7\n",
      "3  2  5  8\n",
      "5  3  6  9\n"
     ]
    }
   ],
   "source": [
    "def reindex_dataframe(df):\n",
    "    new_index= range(1,2* len(df)+1,2)\n",
    "    df.index= new_index\n",
    "    return df\n",
    "\n",
    "#Example Usage\n",
    "data= {\"A\":[1,2,3], \"B\":[4,5,6], \"C\":[7,8,9]}\n",
    "df= pd.DataFrame(data)\n",
    "print(\"\\n Original DataFrame\")\n",
    "print(df)\n",
    "\n",
    "df= reindex_dataframe(df)\n",
    "print(\"\\nAfter reindex_DataFrame\")\n",
    "print(df)"
   ]
  },
  {
   "cell_type": "markdown",
   "metadata": {},
   "source": [
    "Q3. You have a Pandas DataFrame df with a column named 'Values'. Write a Python function that iterates over the DataFrame and calculates the sum of the first three values in the 'Values' column. The function should print the sum to the console."
   ]
  },
  {
   "cell_type": "code",
   "execution_count": 3,
   "metadata": {},
   "outputs": [
    {
     "name": "stdout",
     "output_type": "stream",
     "text": [
      "The sum of the first three values is: 60\n"
     ]
    }
   ],
   "source": [
    "def sum_first_three_values(df):\n",
    "    total = df['Values'][:3].sum()\n",
    "    print(f\"The sum of the first three values is: {total}\")\n",
    "\n",
    "# Example \n",
    "data = {'Values': [10, 20, 30, 40, 50]}\n",
    "df = pd.DataFrame(data)\n",
    "sum_first_three_values(df)\n"
   ]
  },
  {
   "cell_type": "markdown",
   "metadata": {},
   "source": [
    "Q4. Given a Pandas DataFrame df with a column 'Text', write a Python function to create a new column 'Word_Count' that contains the number of words in each row of the 'Text' column."
   ]
  },
  {
   "cell_type": "code",
   "execution_count": 4,
   "metadata": {},
   "outputs": [
    {
     "data": {
      "text/html": [
       "<div>\n",
       "<style scoped>\n",
       "    .dataframe tbody tr th:only-of-type {\n",
       "        vertical-align: middle;\n",
       "    }\n",
       "\n",
       "    .dataframe tbody tr th {\n",
       "        vertical-align: top;\n",
       "    }\n",
       "\n",
       "    .dataframe thead th {\n",
       "        text-align: right;\n",
       "    }\n",
       "</style>\n",
       "<table border=\"1\" class=\"dataframe\">\n",
       "  <thead>\n",
       "    <tr style=\"text-align: right;\">\n",
       "      <th></th>\n",
       "      <th>Text</th>\n",
       "      <th>Word Count</th>\n",
       "    </tr>\n",
       "  </thead>\n",
       "  <tbody>\n",
       "    <tr>\n",
       "      <th>0</th>\n",
       "      <td>Vivek Verma</td>\n",
       "      <td>2</td>\n",
       "    </tr>\n",
       "    <tr>\n",
       "      <th>1</th>\n",
       "      <td>Pandas is great</td>\n",
       "      <td>3</td>\n",
       "    </tr>\n",
       "    <tr>\n",
       "      <th>2</th>\n",
       "      <td>Data Science</td>\n",
       "      <td>2</td>\n",
       "    </tr>\n",
       "  </tbody>\n",
       "</table>\n",
       "</div>"
      ],
      "text/plain": [
       "              Text  Word Count\n",
       "0      Vivek Verma           2\n",
       "1  Pandas is great           3\n",
       "2     Data Science           2"
      ]
     },
     "execution_count": 4,
     "metadata": {},
     "output_type": "execute_result"
    }
   ],
   "source": [
    "def add_word_count_column(df):\n",
    "    df[\"Word Count\"]= df[\"Text\"].apply(lambda x: len(str(x).split()))\n",
    "    return df\n",
    "\n",
    "\n",
    "#Example\n",
    "data= {\"Text\": [\"Vivek Verma\", \"Pandas is great\", \"Data Science\"]}\n",
    "df= pd.DataFrame(data)\n",
    "df= add_word_count_column(df)\n",
    "df"
   ]
  },
  {
   "cell_type": "markdown",
   "metadata": {},
   "source": [
    "Q5. How are DataFrame.size() and DataFrame.shape() different?"
   ]
  },
  {
   "cell_type": "markdown",
   "metadata": {},
   "source": [
    "Answer:\n",
    "\n",
    "DataFrame.size: Returns the number of elements in the DataFrame, which is equal to the number of rows times the number of columns."
   ]
  },
  {
   "cell_type": "markdown",
   "metadata": {},
   "source": [
    "DataFrame.shape: Returns a tuple representing the dimensionality of the DataFrame, i.e., (number of rows, number of columns)."
   ]
  },
  {
   "cell_type": "code",
   "execution_count": 5,
   "metadata": {},
   "outputs": [
    {
     "name": "stdout",
     "output_type": "stream",
     "text": [
      "\n",
      "Orginal DataFrame\n",
      "   A  B   C\n",
      "0  1  5   9\n",
      "1  2  6  10\n",
      "2  3  7  11\n",
      "3  4  8  12\n",
      "\n",
      "Using DataFrame.size: \n",
      "DataFrame.size:  12\n",
      "\n",
      " Using DataFrame.shape\n",
      "DataFrame.shape:  (4, 3)\n"
     ]
    }
   ],
   "source": [
    "#Creating a DataFrame\n",
    "data= {\"A\":[1,2,3,4], \"B\": [5,6,7,8], \"C\": [9,10,11,12]}\n",
    "df= pd.DataFrame(data)\n",
    "print(\"\\nOrginal DataFrame\")\n",
    "print(df)\n",
    "\n",
    "# Using DataFrame.size\n",
    "print(\"\\nUsing DataFrame.size: \")\n",
    "print(\"DataFrame.size: \", df.size)\n",
    "\n",
    "# Using DataFrame.shape\n",
    "print(\"\\n Using DataFrame.shape\")\n",
    "print(\"DataFrame.shape: \", df.shape)"
   ]
  },
  {
   "cell_type": "markdown",
   "metadata": {},
   "source": [
    "Q6. Which function of pandas do we use to read an Excel file?"
   ]
  },
  {
   "cell_type": "markdown",
   "metadata": {},
   "source": [
    "Answer:\n",
    "\n",
    "We use pd.read_excel() to read an Excel file."
   ]
  },
  {
   "cell_type": "markdown",
   "metadata": {},
   "source": [
    "Q7. You have a Pandas DataFrame `df` that contains a column named 'Email' that contains email addresses in the format `username@domain.com`. Write a Python function that creates a new column 'Username' in df that contains only the username part of each email address."
   ]
  },
  {
   "cell_type": "code",
   "execution_count": 6,
   "metadata": {},
   "outputs": [
    {
     "name": "stdout",
     "output_type": "stream",
     "text": [
      "\n",
      "Original DataFrame:\n",
      "                      Email\n",
      "0  vivekkumar1867@gmail.com\n",
      "1  tarunlakra1234@gmail.com\n",
      "2    abhishek1245@gmail.com\n",
      "\n",
      "Username:\n"
     ]
    },
    {
     "data": {
      "text/html": [
       "<div>\n",
       "<style scoped>\n",
       "    .dataframe tbody tr th:only-of-type {\n",
       "        vertical-align: middle;\n",
       "    }\n",
       "\n",
       "    .dataframe tbody tr th {\n",
       "        vertical-align: top;\n",
       "    }\n",
       "\n",
       "    .dataframe thead th {\n",
       "        text-align: right;\n",
       "    }\n",
       "</style>\n",
       "<table border=\"1\" class=\"dataframe\">\n",
       "  <thead>\n",
       "    <tr style=\"text-align: right;\">\n",
       "      <th></th>\n",
       "      <th>Email</th>\n",
       "      <th>Username</th>\n",
       "    </tr>\n",
       "  </thead>\n",
       "  <tbody>\n",
       "    <tr>\n",
       "      <th>0</th>\n",
       "      <td>vivekkumar1867@gmail.com</td>\n",
       "      <td>vivekkumar1867</td>\n",
       "    </tr>\n",
       "    <tr>\n",
       "      <th>1</th>\n",
       "      <td>tarunlakra1234@gmail.com</td>\n",
       "      <td>tarunlakra1234</td>\n",
       "    </tr>\n",
       "    <tr>\n",
       "      <th>2</th>\n",
       "      <td>abhishek1245@gmail.com</td>\n",
       "      <td>abhishek1245</td>\n",
       "    </tr>\n",
       "  </tbody>\n",
       "</table>\n",
       "</div>"
      ],
      "text/plain": [
       "                      Email        Username\n",
       "0  vivekkumar1867@gmail.com  vivekkumar1867\n",
       "1  tarunlakra1234@gmail.com  tarunlakra1234\n",
       "2    abhishek1245@gmail.com    abhishek1245"
      ]
     },
     "execution_count": 6,
     "metadata": {},
     "output_type": "execute_result"
    }
   ],
   "source": [
    "def extract_username(df):\n",
    "    df[\"Username\"]= df[\"Email\"].apply(lambda x: x.split(\"@\")[0])\n",
    "    return df\n",
    "\n",
    "#Example\n",
    "data={\"Email\": [\"vivekkumar1867@gmail.com\", \"tarunlakra1234@gmail.com\", \"abhishek1245@gmail.com\"]}\n",
    "df= pd.DataFrame(data)\n",
    "print(\"\\nOriginal DataFrame:\")\n",
    "print(df)\n",
    "user_name= extract_username(df)\n",
    "print(\"\\nUsername:\")\n",
    "user_name"
   ]
  },
  {
   "attachments": {
    "image.png": {
     "image/png": "[encoded data removed]"
    }
   },
   "cell_type": "markdown",
   "metadata": {},
   "source": [
    "Q8. You have a Pandas DataFrame `df` with columns 'A', 'B', and 'C'. Write a Python function that selects all rows where the value in column 'A' is greater than 5 and the value in column 'B' is less than 10. The function should return a new DataFrame that contains only the selected rows.\n",
    "\n",
    "For example, if df contains the following values:\n",
    "\n",
    "![image.png](attachment:image.png)"
   ]
  },
  {
   "cell_type": "code",
   "execution_count": 7,
   "metadata": {},
   "outputs": [
    {
     "name": "stdout",
     "output_type": "stream",
     "text": [
      "\n",
      "Original data: \n",
      "   A  B  C\n",
      "0  3  5  1\n",
      "1  8  2  7\n",
      "2  6  9  4\n",
      "3  2  3  5\n",
      "4  9  1  2\n",
      "\n",
      "After filterd: \n",
      "   A  B  C\n",
      "1  8  2  7\n",
      "2  6  9  4\n",
      "4  9  1  2\n"
     ]
    }
   ],
   "source": [
    "def select_rows(df):\n",
    "    filtered_df=df[(df['A']>5) & (df[\"B\"] <10)]\n",
    "    return filtered_df\n",
    "\n",
    "#Example\n",
    "data= {\n",
    "    \"A\":[3, 8, 6, 2, 9],\n",
    "    \"B\":[5, 2, 9, 3, 1],\n",
    "    \"C\":[1, 7, 4, 5, 2]\n",
    "}\n",
    "\n",
    "df= pd.DataFrame(data)\n",
    "print(\"\\nOriginal data: \")\n",
    "print(df)\n",
    "\n",
    "print(\"\\nAfter filterd: \")\n",
    "filtered_df= select_rows(df)\n",
    "print(filtered_df)"
   ]
  },
  {
   "cell_type": "markdown",
   "metadata": {},
   "source": [
    "Q9. Given a Pandas DataFrame df with a column 'Values', write a Python function to calculate the mean, median, and standard deviation of the values in the 'Values' column."
   ]
  },
  {
   "cell_type": "code",
   "execution_count": 8,
   "metadata": {},
   "outputs": [
    {
     "name": "stdout",
     "output_type": "stream",
     "text": [
      "\n",
      "Original Data\n",
      "   Value\n",
      "0     10\n",
      "1     20\n",
      "2     30\n",
      "3     40\n",
      "4     50\n",
      "\n",
      "Mean: 30.0\n",
      "Median: 30.0\n",
      "Standard Deviation:  15.811388300841896\n"
     ]
    }
   ],
   "source": [
    "def calculate_statistics(df):\n",
    "    mean_value= df[\"Value\"].mean()\n",
    "    median_value= df[\"Value\"].median()\n",
    "    std_value= df[\"Value\"].std()\n",
    "    return mean_value, median_value, std_value\n",
    "\n",
    "#Example\n",
    "data= {\"Value\": [10,20,30,40,50]}\n",
    "df=pd.DataFrame(data)\n",
    "print(\"\\nOriginal Data\")\n",
    "print(df)\n",
    "\n",
    "mean, median, std= calculate_statistics(df)\n",
    "print(\"\\nMean:\", mean)\n",
    "print(\"Median:\", median)\n",
    "print(\"Standard Deviation: \", std)\n"
   ]
  },
  {
   "cell_type": "markdown",
   "metadata": {},
   "source": [
    "Q10. Given a Pandas DataFrame df with a column 'Sales' and a column 'Date', write a Python function to \n",
    "create a new column 'MovingAverage' that contains the moving average of the sales for the past 7 days \n",
    "for each row in the DataFrame. The moving average should be calculated using a window of size 7 and \n",
    "should include the current day."
   ]
  },
  {
   "cell_type": "code",
   "execution_count": 10,
   "metadata": {},
   "outputs": [
    {
     "name": "stdout",
     "output_type": "stream",
     "text": [
      "\n",
      "Original data: \n",
      "        Date  Sales\n",
      "0 2024-01-01    100\n",
      "1 2024-01-02    200\n",
      "2 2024-01-03    300\n",
      "3 2024-01-04    400\n",
      "4 2024-01-05    500\n",
      "5 2024-01-06    600\n",
      "6 2024-01-07    700\n",
      "7 2024-01-08    800\n",
      "8 2024-01-09    900\n",
      "9 2024-01-10   1000\n",
      "\n",
      "7Days Moving Average of Sales: \n"
     ]
    },
    {
     "data": {
      "text/html": [
       "<div>\n",
       "<style scoped>\n",
       "    .dataframe tbody tr th:only-of-type {\n",
       "        vertical-align: middle;\n",
       "    }\n",
       "\n",
       "    .dataframe tbody tr th {\n",
       "        vertical-align: top;\n",
       "    }\n",
       "\n",
       "    .dataframe thead th {\n",
       "        text-align: right;\n",
       "    }\n",
       "</style>\n",
       "<table border=\"1\" class=\"dataframe\">\n",
       "  <thead>\n",
       "    <tr style=\"text-align: right;\">\n",
       "      <th></th>\n",
       "      <th>Date</th>\n",
       "      <th>Sales</th>\n",
       "      <th>Moving_Average</th>\n",
       "    </tr>\n",
       "  </thead>\n",
       "  <tbody>\n",
       "    <tr>\n",
       "      <th>0</th>\n",
       "      <td>2024-01-01</td>\n",
       "      <td>100</td>\n",
       "      <td>NaN</td>\n",
       "    </tr>\n",
       "    <tr>\n",
       "      <th>1</th>\n",
       "      <td>2024-01-02</td>\n",
       "      <td>200</td>\n",
       "      <td>NaN</td>\n",
       "    </tr>\n",
       "    <tr>\n",
       "      <th>2</th>\n",
       "      <td>2024-01-03</td>\n",
       "      <td>300</td>\n",
       "      <td>NaN</td>\n",
       "    </tr>\n",
       "    <tr>\n",
       "      <th>3</th>\n",
       "      <td>2024-01-04</td>\n",
       "      <td>400</td>\n",
       "      <td>NaN</td>\n",
       "    </tr>\n",
       "    <tr>\n",
       "      <th>4</th>\n",
       "      <td>2024-01-05</td>\n",
       "      <td>500</td>\n",
       "      <td>NaN</td>\n",
       "    </tr>\n",
       "    <tr>\n",
       "      <th>5</th>\n",
       "      <td>2024-01-06</td>\n",
       "      <td>600</td>\n",
       "      <td>NaN</td>\n",
       "    </tr>\n",
       "    <tr>\n",
       "      <th>6</th>\n",
       "      <td>2024-01-07</td>\n",
       "      <td>700</td>\n",
       "      <td>400.0</td>\n",
       "    </tr>\n",
       "    <tr>\n",
       "      <th>7</th>\n",
       "      <td>2024-01-08</td>\n",
       "      <td>800</td>\n",
       "      <td>500.0</td>\n",
       "    </tr>\n",
       "    <tr>\n",
       "      <th>8</th>\n",
       "      <td>2024-01-09</td>\n",
       "      <td>900</td>\n",
       "      <td>600.0</td>\n",
       "    </tr>\n",
       "    <tr>\n",
       "      <th>9</th>\n",
       "      <td>2024-01-10</td>\n",
       "      <td>1000</td>\n",
       "      <td>700.0</td>\n",
       "    </tr>\n",
       "  </tbody>\n",
       "</table>\n",
       "</div>"
      ],
      "text/plain": [
       "        Date  Sales  Moving_Average\n",
       "0 2024-01-01    100             NaN\n",
       "1 2024-01-02    200             NaN\n",
       "2 2024-01-03    300             NaN\n",
       "3 2024-01-04    400             NaN\n",
       "4 2024-01-05    500             NaN\n",
       "5 2024-01-06    600             NaN\n",
       "6 2024-01-07    700           400.0\n",
       "7 2024-01-08    800           500.0\n",
       "8 2024-01-09    900           600.0\n",
       "9 2024-01-10   1000           700.0"
      ]
     },
     "execution_count": 10,
     "metadata": {},
     "output_type": "execute_result"
    }
   ],
   "source": [
    "def add_moving_average(df):\n",
    "    df[\"Moving_Average\"]= df[\"Sales\"].rolling(window=7).mean()\n",
    "    return df\n",
    "\n",
    "#Example\n",
    "data= {\n",
    "    \"Date\": pd.date_range(start='01/01/2024', periods=10),\n",
    "    \"Sales\":[100,200,300,400,500,600,700,800,900,1000]\n",
    "}\n",
    "\n",
    "df=pd.DataFrame(data)\n",
    "print(\"\\nOriginal data: \")\n",
    "print(df)\n",
    "\n",
    "df= add_moving_average(df)\n",
    "print(\"\\n7Days Moving Average of Sales: \")\n",
    "df"
   ]
  },
  {
   "attachments": {
    "image.png": {
     "image/png": "[encoded data removed]"
    }
   },
   "cell_type": "markdown",
   "metadata": {},
   "source": [
    "Q11. You have a Pandas DataFrame df with a column 'Date'. Write a Python function that creates a new \n",
    "column 'Weekday' in the DataFrame. The 'Weekday' column should contain the weekday name (e.g. \n",
    "Monday, Tuesday) corresponding to each date in the 'Date' column.\n",
    "\n",
    "For example, if df contains the following values:\n",
    "\n",
    "![image.png](attachment:image.png)"
   ]
  },
  {
   "cell_type": "code",
   "execution_count": 11,
   "metadata": {},
   "outputs": [
    {
     "name": "stdout",
     "output_type": "stream",
     "text": [
      "\n",
      " Date without Weekdays Name: \n",
      "        Date\n",
      "0 2023-01-01\n",
      "1 2023-01-02\n",
      "2 2023-01-03\n",
      "3 2023-01-04\n",
      "4 2023-01-05\n"
     ]
    },
    {
     "data": {
      "text/html": [
       "<div>\n",
       "<style scoped>\n",
       "    .dataframe tbody tr th:only-of-type {\n",
       "        vertical-align: middle;\n",
       "    }\n",
       "\n",
       "    .dataframe tbody tr th {\n",
       "        vertical-align: top;\n",
       "    }\n",
       "\n",
       "    .dataframe thead th {\n",
       "        text-align: right;\n",
       "    }\n",
       "</style>\n",
       "<table border=\"1\" class=\"dataframe\">\n",
       "  <thead>\n",
       "    <tr style=\"text-align: right;\">\n",
       "      <th></th>\n",
       "      <th>Date</th>\n",
       "      <th>Weekday</th>\n",
       "    </tr>\n",
       "  </thead>\n",
       "  <tbody>\n",
       "    <tr>\n",
       "      <th>0</th>\n",
       "      <td>2023-01-01</td>\n",
       "      <td>Sunday</td>\n",
       "    </tr>\n",
       "    <tr>\n",
       "      <th>1</th>\n",
       "      <td>2023-01-02</td>\n",
       "      <td>Monday</td>\n",
       "    </tr>\n",
       "    <tr>\n",
       "      <th>2</th>\n",
       "      <td>2023-01-03</td>\n",
       "      <td>Tuesday</td>\n",
       "    </tr>\n",
       "    <tr>\n",
       "      <th>3</th>\n",
       "      <td>2023-01-04</td>\n",
       "      <td>Wednesday</td>\n",
       "    </tr>\n",
       "    <tr>\n",
       "      <th>4</th>\n",
       "      <td>2023-01-05</td>\n",
       "      <td>Thursday</td>\n",
       "    </tr>\n",
       "  </tbody>\n",
       "</table>\n",
       "</div>"
      ],
      "text/plain": [
       "        Date    Weekday\n",
       "0 2023-01-01     Sunday\n",
       "1 2023-01-02     Monday\n",
       "2 2023-01-03    Tuesday\n",
       "3 2023-01-04  Wednesday\n",
       "4 2023-01-05   Thursday"
      ]
     },
     "execution_count": 11,
     "metadata": {},
     "output_type": "execute_result"
    }
   ],
   "source": [
    "def add_weekday(df):\n",
    "    df[\"Weekday\"]= df[\"Date\"].dt.day_name()\n",
    "    return df\n",
    "\n",
    "#Example\n",
    "data= {\n",
    "    \"Date\": pd.date_range(start='2023-01-01', periods=5),\n",
    "}\n",
    "df= pd.DataFrame(data)\n",
    "print(\"\\n Date without Weekdays Name: \")\n",
    "print(df)\n",
    "\n",
    "df= add_weekday(df)\n",
    "df\n"
   ]
  },
  {
   "cell_type": "markdown",
   "metadata": {},
   "source": [
    "Q12. Given a Pandas DataFrame `df` with a column `Date` that contains timestamps, write a Python function to select all rows where the date is between '2023-01-01' and '2023-01-31'."
   ]
  },
  {
   "cell_type": "code",
   "execution_count": 13,
   "metadata": {},
   "outputs": [
    {
     "name": "stdout",
     "output_type": "stream",
     "text": [
      "         Date\n",
      "0  2023-01-01\n",
      "1  2023-01-02\n",
      "2  2023-01-03\n",
      "3  2023-01-04\n",
      "4  2023-01-05\n",
      "5  2023-01-06\n",
      "6  2023-01-07\n",
      "7  2023-01-08\n",
      "8  2023-01-09\n",
      "9  2023-01-10\n",
      "10 2023-01-11\n",
      "11 2023-01-12\n",
      "12 2023-01-13\n",
      "13 2023-01-14\n",
      "14 2023-01-15\n",
      "15 2023-01-16\n",
      "16 2023-01-17\n",
      "17 2023-01-18\n",
      "18 2023-01-19\n",
      "19 2023-01-20\n",
      "20 2023-01-21\n",
      "21 2023-01-22\n",
      "22 2023-01-23\n",
      "23 2023-01-24\n",
      "24 2023-01-25\n",
      "25 2023-01-26\n",
      "26 2023-01-27\n",
      "27 2023-01-28\n",
      "28 2023-01-29\n",
      "29 2023-01-30\n",
      "30 2023-01-31\n"
     ]
    }
   ],
   "source": [
    "import pandas as pd\n",
    "\n",
    "def filter_dates(df):\n",
    "    start_date = '2023-01-01'\n",
    "    end_date = '2023-01-31'\n",
    "    mask = (df['Date'] >= start_date) & (df['Date'] <= end_date)\n",
    "    filtered_df = df.loc[mask]\n",
    "    return filtered_df\n",
    "\n",
    "# Example DataFrame\n",
    "data = {'Date': pd.date_range(start='2023-01-01', end='2023-02-10', freq='D')}\n",
    "df = pd.DataFrame(data)\n",
    "\n",
    "filtered_df = filter_dates(df)\n",
    "print(filtered_df)\n"
   ]
  }
 ],
 "metadata": {
  "kernelspec": {
   "display_name": "Python 3",
   "language": "python",
   "name": "python3"
  },
  "language_info": {
   "codemirror_mode": {
    "name": "ipython",
    "version": 3
   },
   "file_extension": ".py",
   "mimetype": "text/x-python",
   "name": "python",
   "nbconvert_exporter": "python",
   "pygments_lexer": "ipython3",
   "version": "3.12.1"
  }
 },
 "nbformat": 4,
 "nbformat_minor": 2
}
